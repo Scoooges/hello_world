{
 "cells": [
  {
   "cell_type": "code",
   "execution_count": 1,
   "metadata": {},
   "outputs": [],
   "source": [
    "a = [1.0, 2.0, 1.0]"
   ]
  },
  {
   "cell_type": "code",
   "execution_count": 2,
   "metadata": {},
   "outputs": [
    {
     "data": {
      "text/plain": [
       "1.0"
      ]
     },
     "execution_count": 2,
     "metadata": {},
     "output_type": "execute_result"
    }
   ],
   "source": [
    "a[0]"
   ]
  },
  {
   "cell_type": "code",
   "execution_count": 8,
   "metadata": {},
   "outputs": [],
   "source": [
    "a[2] = 3.0"
   ]
  },
  {
   "cell_type": "code",
   "execution_count": 9,
   "metadata": {},
   "outputs": [
    {
     "data": {
      "text/plain": [
       "[1.0, 2.0, 3.0]"
      ]
     },
     "execution_count": 9,
     "metadata": {},
     "output_type": "execute_result"
    }
   ],
   "source": [
    "a"
   ]
  },
  {
   "cell_type": "code",
   "execution_count": 10,
   "metadata": {},
   "outputs": [
    {
     "data": {
      "text/plain": [
       "tensor([1., 1., 1.])"
      ]
     },
     "execution_count": 10,
     "metadata": {},
     "output_type": "execute_result"
    }
   ],
   "source": [
    "import torch\n",
    "a = torch.ones(3)\n",
    "a"
   ]
  },
  {
   "cell_type": "code",
   "execution_count": 11,
   "metadata": {},
   "outputs": [
    {
     "data": {
      "text/plain": [
       "tensor(1.)"
      ]
     },
     "execution_count": 11,
     "metadata": {},
     "output_type": "execute_result"
    }
   ],
   "source": [
    "a[1]"
   ]
  },
  {
   "cell_type": "code",
   "execution_count": 12,
   "metadata": {},
   "outputs": [],
   "source": [
    "img_t = torch.randn(3, 5, 5)\n",
    "weights = torch.tensor([0.2126, 0.7152, 0.0722])"
   ]
  },
  {
   "cell_type": "code",
   "execution_count": 13,
   "metadata": {},
   "outputs": [],
   "source": [
    "batch_t = torch.randn(2, 3, 5, 5)"
   ]
  },
  {
   "cell_type": "code",
   "execution_count": 14,
   "metadata": {},
   "outputs": [
    {
     "data": {
      "text/plain": [
       "(torch.Size([5, 5]), torch.Size([2, 5, 5]))"
      ]
     },
     "execution_count": 14,
     "metadata": {},
     "output_type": "execute_result"
    }
   ],
   "source": [
    "img_gray_naive = img_t.mean(-3)\n",
    "batch_gray_naive = batch_t.mean(-3)\n",
    "img_gray_naive.shape, batch_gray_naive.shape"
   ]
  },
  {
   "cell_type": "code",
   "execution_count": 15,
   "metadata": {},
   "outputs": [
    {
     "data": {
      "text/plain": [
       "tensor([[ 0.4753,  0.0080, -0.1392,  0.0583,  0.2551],\n",
       "        [ 0.5393,  0.6921, -0.3067, -0.0076,  0.2339],\n",
       "        [ 0.6256,  0.1781, -0.3373,  0.3010, -0.0656],\n",
       "        [-0.2458, -0.5000, -0.0120, -0.8844, -0.1401],\n",
       "        [ 0.7516,  0.2025, -0.1578, -0.1293,  0.6901]])"
      ]
     },
     "execution_count": 15,
     "metadata": {},
     "output_type": "execute_result"
    }
   ],
   "source": [
    "img_gray_naive"
   ]
  },
  {
   "cell_type": "code",
   "execution_count": 16,
   "metadata": {},
   "outputs": [
    {
     "data": {
      "text/plain": [
       "tensor([[[ 7.1077e-01, -1.4150e+00, -8.1692e-01,  3.8364e-01,  2.3860e+00],\n",
       "         [ 2.1426e-01,  2.5325e+00,  7.7569e-02,  1.3106e-01,  3.7015e-01],\n",
       "         [ 6.6277e-01, -5.6433e-01, -1.1460e+00, -3.9700e-01, -3.2714e-01],\n",
       "         [-8.3558e-02, -4.1703e-01,  8.7535e-01, -8.5584e-01,  1.1786e-01],\n",
       "         [ 2.2051e+00, -3.2679e-01, -8.4569e-01,  4.0568e-01,  9.2496e-01]],\n",
       "\n",
       "        [[-8.3517e-01,  8.9914e-01, -8.2608e-02, -8.4177e-01, -6.3198e-01],\n",
       "         [ 1.1829e+00, -7.4393e-01,  6.0256e-01, -5.4448e-01, -8.8936e-01],\n",
       "         [ 1.2710e+00, -1.1019e-02,  1.3490e-01,  8.5787e-01,  7.9864e-01],\n",
       "         [-1.7328e-01, -3.1079e-01, -4.1958e-01, -1.3253e+00, -1.1884e-01],\n",
       "         [ 2.8369e-01,  9.1286e-01,  6.4630e-01, -1.0911e-01,  7.6371e-01]],\n",
       "\n",
       "        [[ 1.5503e+00,  5.3985e-01,  4.8193e-01,  6.3289e-01, -9.8878e-01],\n",
       "         [ 2.2060e-01,  2.8779e-01, -1.6002e+00,  3.9076e-01,  1.2208e+00],\n",
       "         [-5.6867e-02,  1.1097e+00, -7.8386e-04,  4.4209e-01, -6.6841e-01],\n",
       "         [-4.8049e-01, -7.7230e-01, -4.9167e-01, -4.7211e-01, -4.1924e-01],\n",
       "         [-2.3400e-01,  2.1346e-02, -2.7389e-01, -6.8438e-01,  3.8160e-01]]])"
      ]
     },
     "execution_count": 16,
     "metadata": {},
     "output_type": "execute_result"
    }
   ],
   "source": [
    "img_t"
   ]
  },
  {
   "cell_type": "code",
   "execution_count": 17,
   "metadata": {},
   "outputs": [
    {
     "data": {
      "text/plain": [
       "tensor([[[-0.4938,  0.6891,  0.0574,  0.1815, -0.2621],\n",
       "         [-0.1973,  0.0896, -0.2132,  0.6233,  0.3142],\n",
       "         [ 0.3802,  0.2974, -0.8611, -0.9027, -0.4580],\n",
       "         [ 0.2974, -0.5320, -0.2870, -1.1296,  0.1146],\n",
       "         [-0.3294,  0.4358,  0.5924, -0.4872, -0.4945]],\n",
       "\n",
       "        [[-0.6878, -1.1780, -0.2275, -0.0241, -0.4346],\n",
       "         [ 0.8073, -0.4168,  0.6700,  0.5315, -0.2703],\n",
       "         [-0.5795,  0.2871, -1.0192, -0.2044, -0.7295],\n",
       "         [-1.1388, -0.4992, -0.3289,  0.8631, -0.2837],\n",
       "         [ 0.1261, -0.9838, -0.1990,  0.4437,  0.2996]]])"
      ]
     },
     "execution_count": 17,
     "metadata": {},
     "output_type": "execute_result"
    }
   ],
   "source": [
    "batch_gray_naive"
   ]
  },
  {
   "cell_type": "code",
   "execution_count": 18,
   "metadata": {},
   "outputs": [
    {
     "data": {
      "text/plain": [
       "tensor([[[[-0.3040, -0.8045, -0.6579, -0.6526,  0.0472],\n",
       "          [ 1.2315, -1.0442, -0.2048, -0.0612, -0.1232],\n",
       "          [ 0.6232,  2.1497,  0.1880, -0.8655, -0.0425],\n",
       "          [ 2.5637, -1.2617, -0.2816, -2.0005, -0.6320],\n",
       "          [ 0.4679, -0.4336,  1.5196, -1.1084, -2.0425]],\n",
       "\n",
       "         [[-1.5743,  1.3993,  1.1677,  1.0425,  0.8053],\n",
       "          [-0.5669,  1.2932,  0.8770,  0.9605,  2.1088],\n",
       "          [ 0.7657, -0.5001, -1.9221, -1.2756,  0.3062],\n",
       "          [-1.9988, -0.1406,  0.2833, -0.6434, -0.0966],\n",
       "          [ 0.3340,  1.3795,  0.8182, -0.2830, -0.3755]],\n",
       "\n",
       "         [[ 0.3970,  1.4726, -0.3375,  0.1547, -1.6386],\n",
       "          [-1.2564,  0.0197, -1.3119,  0.9706, -1.0429],\n",
       "          [-0.2483, -0.7574, -0.8492, -0.5671, -1.6377],\n",
       "          [ 0.3272, -0.1936, -0.8626, -0.7449,  1.0723],\n",
       "          [-1.7901,  0.3614, -0.5607, -0.0701,  0.9346]]],\n",
       "\n",
       "\n",
       "        [[[-0.7546, -1.6750,  0.0295,  0.1677, -1.4674],\n",
       "          [-1.6988,  0.2129,  1.6921,  1.2664, -0.1708],\n",
       "          [-0.1886,  0.5187, -2.1172, -0.9104, -2.6708],\n",
       "          [-0.2192, -1.0898,  0.1118,  0.2790, -0.3952],\n",
       "          [-2.0826, -0.6753, -0.3137,  0.0813,  2.9876]],\n",
       "\n",
       "         [[-0.1944, -0.7550,  0.4294,  0.1938, -0.8000],\n",
       "          [ 2.0666, -0.1412, -0.5319, -1.4068,  0.0544],\n",
       "          [-1.0398,  0.6796, -0.3231, -0.6012,  0.7297],\n",
       "          [-1.6909, -0.7126, -0.2854,  0.0840, -0.4248],\n",
       "          [ 1.9707, -1.7287, -0.2312,  0.7286, -0.9721]],\n",
       "\n",
       "         [[-1.1143, -1.1041, -1.1415, -0.4339,  0.9636],\n",
       "          [ 2.0543, -1.3221,  0.8496,  1.7349, -0.6946],\n",
       "          [-0.5101, -0.3371, -0.6171,  0.8982, -0.2474],\n",
       "          [-1.5062,  0.3049, -0.8130,  2.2264, -0.0310],\n",
       "          [ 0.4903, -0.5474, -0.0522,  0.5212, -1.1167]]]])"
      ]
     },
     "execution_count": 18,
     "metadata": {},
     "output_type": "execute_result"
    }
   ],
   "source": [
    "batch_t"
   ]
  },
  {
   "cell_type": "code",
   "execution_count": 19,
   "metadata": {},
   "outputs": [
    {
     "data": {
      "text/plain": [
       "tensor([0.2126, 0.7152, 0.0722])"
      ]
     },
     "execution_count": 19,
     "metadata": {},
     "output_type": "execute_result"
    }
   ],
   "source": [
    "weights"
   ]
  },
  {
   "cell_type": "code",
   "execution_count": 25,
   "metadata": {},
   "outputs": [],
   "source": [
    "unsqueezed_weights = weights.unsqueeze(-1).unsqueeze_(-1)"
   ]
  },
  {
   "cell_type": "code",
   "execution_count": 21,
   "metadata": {},
   "outputs": [
    {
     "data": {
      "text/plain": [
       "tensor([[0.2126],\n",
       "        [0.7152],\n",
       "        [0.0722]])"
      ]
     },
     "execution_count": 21,
     "metadata": {},
     "output_type": "execute_result"
    }
   ],
   "source": [
    "weights.unsqueeze(-1)"
   ]
  },
  {
   "cell_type": "code",
   "execution_count": 28,
   "metadata": {},
   "outputs": [
    {
     "data": {
      "text/plain": [
       "(torch.Size([2, 3, 5, 5]), torch.Size([2, 3, 5, 5]), torch.Size([3, 1, 1]))"
      ]
     },
     "execution_count": 28,
     "metadata": {},
     "output_type": "execute_result"
    }
   ],
   "source": [
    "img_weights = (img_t * unsqueezed_weights)\n",
    "batch_weights = (batch_t * unsqueezed_weights)\n",
    "img_gray_weighted = img_weights.sum(-3)\n",
    "batch_gray_weighted = batch_weights.sum(-3)\n",
    "batch_weights.shape, batch_t.shape, unsqueezed_weights.shape"
   ]
  },
  {
   "cell_type": "code",
   "execution_count": 29,
   "metadata": {},
   "outputs": [
    {
     "name": "stderr",
     "output_type": "stream",
     "text": [
      "/Users/cameronlevett/opt/anaconda3/envs/torch/lib/python3.7/site-packages/torch/tensor.py:775: UserWarning: Named tensors and all their associated APIs are an experimental feature and subject to change. Please do not use them for anything important until they are released as stable. (Triggered internally at  /Users/distiller/project/conda/conda-bld/pytorch_1603729051302/work/c10/core/TensorImpl.h:848.)\n",
      "  return super(Tensor, self).refine_names(names)\n"
     ]
    }
   ],
   "source": [
    "img_named = img_t.refine_names(...,'channels', 'rows', 'columns')"
   ]
  },
  {
   "cell_type": "code",
   "execution_count": 30,
   "metadata": {},
   "outputs": [
    {
     "name": "stdout",
     "output_type": "stream",
     "text": [
      "img named: torch.Size([3, 5, 5]) ('channels', 'rows', 'columns')\n",
      "batch named: torch.Size([2, 3, 5, 5]) (None, 'channels', 'rows', 'columns')\n"
     ]
    }
   ],
   "source": [
    "img_named =  img_t.refine_names(..., 'channels', 'rows', 'columns')\n",
    "batch_named = batch_t.refine_names(..., 'channels', 'rows', 'columns')\n",
    "print(\"img named:\", img_named.shape, img_named.names)\n",
    "print(\"batch named:\", batch_named.shape, batch_named.names)"
   ]
  },
  {
   "cell_type": "code",
   "execution_count": 32,
   "metadata": {},
   "outputs": [
    {
     "data": {
      "text/plain": [
       "(torch.Size([3, 1, 1]), ('channels', 'rows', 'columns'))"
      ]
     },
     "execution_count": 32,
     "metadata": {},
     "output_type": "execute_result"
    }
   ],
   "source": [
    "weights_named = torch.tensor([0.2126, 0.7152, 0.0722], names=['channels'])\n",
    "weights_alinged = weights_named.align_as(img_named)\n",
    "weights_alinged.shape, weights_alinged.names"
   ]
  },
  {
   "cell_type": "markdown",
   "metadata": {},
   "source": [
    "gray_named "
   ]
  },
  {
   "cell_type": "code",
   "execution_count": 34,
   "metadata": {},
   "outputs": [
    {
     "data": {
      "text/plain": [
       "(torch.Size([5, 5]), ('rows', 'columns'))"
      ]
     },
     "execution_count": 34,
     "metadata": {},
     "output_type": "execute_result"
    }
   ],
   "source": [
    "gray_named = (img_named * weights_alinged).sum('channels')\n",
    "gray_named.shape, gray_named.names"
   ]
  },
  {
   "cell_type": "code",
   "execution_count": 35,
   "metadata": {},
   "outputs": [
    {
     "data": {
      "text/plain": [
       "tensor([[[0.2126]],\n",
       "\n",
       "        [[0.7152]],\n",
       "\n",
       "        [[0.0722]]], names=('channels', 'rows', 'columns'))"
      ]
     },
     "execution_count": 35,
     "metadata": {},
     "output_type": "execute_result"
    }
   ],
   "source": [
    "weights_alinged"
   ]
  },
  {
   "cell_type": "code",
   "execution_count": 36,
   "metadata": {},
   "outputs": [
    {
     "data": {
      "text/plain": [
       "tensor([[[ 7.1077e-01, -1.4150e+00, -8.1692e-01,  3.8364e-01,  2.3860e+00],\n",
       "         [ 2.1426e-01,  2.5325e+00,  7.7569e-02,  1.3106e-01,  3.7015e-01],\n",
       "         [ 6.6277e-01, -5.6433e-01, -1.1460e+00, -3.9700e-01, -3.2714e-01],\n",
       "         [-8.3558e-02, -4.1703e-01,  8.7535e-01, -8.5584e-01,  1.1786e-01],\n",
       "         [ 2.2051e+00, -3.2679e-01, -8.4569e-01,  4.0568e-01,  9.2496e-01]],\n",
       "\n",
       "        [[-8.3517e-01,  8.9914e-01, -8.2608e-02, -8.4177e-01, -6.3198e-01],\n",
       "         [ 1.1829e+00, -7.4393e-01,  6.0256e-01, -5.4448e-01, -8.8936e-01],\n",
       "         [ 1.2710e+00, -1.1019e-02,  1.3490e-01,  8.5787e-01,  7.9864e-01],\n",
       "         [-1.7328e-01, -3.1079e-01, -4.1958e-01, -1.3253e+00, -1.1884e-01],\n",
       "         [ 2.8369e-01,  9.1286e-01,  6.4630e-01, -1.0911e-01,  7.6371e-01]],\n",
       "\n",
       "        [[ 1.5503e+00,  5.3985e-01,  4.8193e-01,  6.3289e-01, -9.8878e-01],\n",
       "         [ 2.2060e-01,  2.8779e-01, -1.6002e+00,  3.9076e-01,  1.2208e+00],\n",
       "         [-5.6867e-02,  1.1097e+00, -7.8386e-04,  4.4209e-01, -6.6841e-01],\n",
       "         [-4.8049e-01, -7.7230e-01, -4.9167e-01, -4.7211e-01, -4.1924e-01],\n",
       "         [-2.3400e-01,  2.1346e-02, -2.7389e-01, -6.8438e-01,  3.8160e-01]]],\n",
       "       names=('channels', 'rows', 'columns'))"
      ]
     },
     "execution_count": 36,
     "metadata": {},
     "output_type": "execute_result"
    }
   ],
   "source": [
    "img_named"
   ]
  },
  {
   "cell_type": "code",
   "execution_count": 37,
   "metadata": {},
   "outputs": [
    {
     "data": {
      "text/plain": [
       "tensor([[-0.3343,  0.3812, -0.1980, -0.4748, -0.0161],\n",
       "        [ 0.9075,  0.0271,  0.3319, -0.3333, -0.4692],\n",
       "        [ 1.0458, -0.0477, -0.1472,  0.5611,  0.4534],\n",
       "        [-0.1764, -0.3667, -0.1495, -1.1639, -0.0902],\n",
       "        [ 0.6548,  0.5849,  0.2627, -0.0412,  0.7704]],\n",
       "       names=('rows', 'columns'))"
      ]
     },
     "execution_count": 37,
     "metadata": {},
     "output_type": "execute_result"
    }
   ],
   "source": [
    "gray_named"
   ]
  },
  {
   "cell_type": "code",
   "execution_count": 38,
   "metadata": {},
   "outputs": [
    {
     "data": {
      "text/plain": [
       "tensor([[0., 0.],\n",
       "        [0., 0.],\n",
       "        [0., 0.],\n",
       "        [0., 0.],\n",
       "        [0., 0.],\n",
       "        [0., 0.],\n",
       "        [0., 0.],\n",
       "        [0., 0.],\n",
       "        [0., 0.],\n",
       "        [0., 0.]], dtype=torch.float64)"
      ]
     },
     "execution_count": 38,
     "metadata": {},
     "output_type": "execute_result"
    }
   ],
   "source": [
    "double_points = torch.zeros(10, 2).double()\n",
    "double_points"
   ]
  },
  {
   "cell_type": "code",
   "execution_count": 39,
   "metadata": {},
   "outputs": [],
   "source": [
    "points = torch.tensor([[4.0, 1.0], [5.0, 3.0], [2.0, 1.0]])"
   ]
  },
  {
   "cell_type": "code",
   "execution_count": 45,
   "metadata": {},
   "outputs": [
    {
     "data": {
      "text/plain": [
       "(torch.Size([3, 2]), tensor([[4., 1.],\n",
       "         [5., 3.],\n",
       "         [2., 1.]]))"
      ]
     },
     "execution_count": 45,
     "metadata": {},
     "output_type": "execute_result"
    }
   ],
   "source": [
    "points.shape, points"
   ]
  },
  {
   "cell_type": "code",
   "execution_count": 41,
   "metadata": {},
   "outputs": [
    {
     "data": {
      "text/plain": [
       " 4.0\n",
       " 1.0\n",
       " 5.0\n",
       " 3.0\n",
       " 2.0\n",
       " 1.0\n",
       "[torch.FloatStorage of size 6]"
      ]
     },
     "execution_count": 41,
     "metadata": {},
     "output_type": "execute_result"
    }
   ],
   "source": [
    "points.storage()"
   ]
  },
  {
   "cell_type": "code",
   "execution_count": 42,
   "metadata": {},
   "outputs": [
    {
     "data": {
      "text/plain": [
       "4.0"
      ]
     },
     "execution_count": 42,
     "metadata": {},
     "output_type": "execute_result"
    }
   ],
   "source": [
    "points_storage = points.storage()\n",
    "points_storage[0]"
   ]
  },
  {
   "cell_type": "code",
   "execution_count": 46,
   "metadata": {},
   "outputs": [
    {
     "data": {
      "text/plain": [
       "tensor([[4., 1.],\n",
       "        [5., 3.],\n",
       "        [2., 1.]])"
      ]
     },
     "execution_count": 46,
     "metadata": {},
     "output_type": "execute_result"
    }
   ],
   "source": [
    "points"
   ]
  },
  {
   "cell_type": "code",
   "execution_count": 47,
   "metadata": {},
   "outputs": [
    {
     "data": {
      "text/plain": [
       "tensor([5., 3.])"
      ]
     },
     "execution_count": 47,
     "metadata": {},
     "output_type": "execute_result"
    }
   ],
   "source": [
    "second_point = points[1]\n",
    "second_point"
   ]
  },
  {
   "cell_type": "code",
   "execution_count": 49,
   "metadata": {},
   "outputs": [
    {
     "data": {
      "text/plain": [
       "2"
      ]
     },
     "execution_count": 49,
     "metadata": {},
     "output_type": "execute_result"
    }
   ],
   "source": [
    "second_point.storage_offset()"
   ]
  },
  {
   "cell_type": "code",
   "execution_count": 50,
   "metadata": {},
   "outputs": [
    {
     "data": {
      "text/plain": [
       "torch.Size([2])"
      ]
     },
     "execution_count": 50,
     "metadata": {},
     "output_type": "execute_result"
    }
   ],
   "source": [
    "second_point.size()"
   ]
  },
  {
   "cell_type": "code",
   "execution_count": 51,
   "metadata": {},
   "outputs": [
    {
     "data": {
      "text/plain": [
       "tensor([[4., 1.],\n",
       "        [5., 3.],\n",
       "        [2., 1.]])"
      ]
     },
     "execution_count": 51,
     "metadata": {},
     "output_type": "execute_result"
    }
   ],
   "source": [
    "points"
   ]
  },
  {
   "cell_type": "code",
   "execution_count": 52,
   "metadata": {},
   "outputs": [],
   "source": [
    "points_t = points.t()"
   ]
  },
  {
   "cell_type": "code",
   "execution_count": 53,
   "metadata": {},
   "outputs": [
    {
     "data": {
      "text/plain": [
       "tensor([[4., 5., 2.],\n",
       "        [1., 3., 1.]])"
      ]
     },
     "execution_count": 53,
     "metadata": {},
     "output_type": "execute_result"
    }
   ],
   "source": [
    "points_t"
   ]
  },
  {
   "cell_type": "code",
   "execution_count": 54,
   "metadata": {},
   "outputs": [
    {
     "data": {
      "text/plain": [
       "False"
      ]
     },
     "execution_count": 54,
     "metadata": {},
     "output_type": "execute_result"
    }
   ],
   "source": [
    "id(points.storage) == id(points_t.storage())"
   ]
  },
  {
   "cell_type": "code",
   "execution_count": 55,
   "metadata": {},
   "outputs": [
    {
     "data": {
      "text/plain": [
       "True"
      ]
     },
     "execution_count": 55,
     "metadata": {},
     "output_type": "execute_result"
    }
   ],
   "source": [
    "id(points.storage()) == id(points_t.storage())"
   ]
  },
  {
   "cell_type": "code",
   "execution_count": 56,
   "metadata": {},
   "outputs": [
    {
     "data": {
      "text/plain": [
       "tensor([[[1., 1., 1., 1., 1.],\n",
       "         [1., 1., 1., 1., 1.],\n",
       "         [1., 1., 1., 1., 1.],\n",
       "         [1., 1., 1., 1., 1.]],\n",
       "\n",
       "        [[1., 1., 1., 1., 1.],\n",
       "         [1., 1., 1., 1., 1.],\n",
       "         [1., 1., 1., 1., 1.],\n",
       "         [1., 1., 1., 1., 1.]],\n",
       "\n",
       "        [[1., 1., 1., 1., 1.],\n",
       "         [1., 1., 1., 1., 1.],\n",
       "         [1., 1., 1., 1., 1.],\n",
       "         [1., 1., 1., 1., 1.]]])"
      ]
     },
     "execution_count": 56,
     "metadata": {},
     "output_type": "execute_result"
    }
   ],
   "source": [
    "some_t = torch.ones(3,4,5)\n",
    "some_t"
   ]
  },
  {
   "cell_type": "code",
   "execution_count": 57,
   "metadata": {},
   "outputs": [
    {
     "data": {
      "text/plain": [
       "tensor([[[1., 1., 1.],\n",
       "         [1., 1., 1.],\n",
       "         [1., 1., 1.],\n",
       "         [1., 1., 1.]],\n",
       "\n",
       "        [[1., 1., 1.],\n",
       "         [1., 1., 1.],\n",
       "         [1., 1., 1.],\n",
       "         [1., 1., 1.]],\n",
       "\n",
       "        [[1., 1., 1.],\n",
       "         [1., 1., 1.],\n",
       "         [1., 1., 1.],\n",
       "         [1., 1., 1.]],\n",
       "\n",
       "        [[1., 1., 1.],\n",
       "         [1., 1., 1.],\n",
       "         [1., 1., 1.],\n",
       "         [1., 1., 1.]],\n",
       "\n",
       "        [[1., 1., 1.],\n",
       "         [1., 1., 1.],\n",
       "         [1., 1., 1.],\n",
       "         [1., 1., 1.]]])"
      ]
     },
     "execution_count": 57,
     "metadata": {},
     "output_type": "execute_result"
    }
   ],
   "source": [
    "transpose_t = some_t.transpose(0,2)\n",
    "transpose_t"
   ]
  },
  {
   "cell_type": "code",
   "execution_count": 58,
   "metadata": {},
   "outputs": [
    {
     "data": {
      "text/plain": [
       "True"
      ]
     },
     "execution_count": 58,
     "metadata": {},
     "output_type": "execute_result"
    }
   ],
   "source": [
    "points.is_contiguous()"
   ]
  },
  {
   "cell_type": "code",
   "execution_count": 59,
   "metadata": {},
   "outputs": [
    {
     "data": {
      "text/plain": [
       "False"
      ]
     },
     "execution_count": 59,
     "metadata": {},
     "output_type": "execute_result"
    }
   ],
   "source": [
    "points_t.is_contiguous()"
   ]
  },
  {
   "cell_type": "code",
   "execution_count": null,
   "metadata": {},
   "outputs": [],
   "source": []
  }
 ],
 "metadata": {
  "kernelspec": {
   "display_name": "Python 3",
   "language": "python",
   "name": "python3"
  },
  "language_info": {
   "codemirror_mode": {
    "name": "ipython",
    "version": 3
   },
   "file_extension": ".py",
   "mimetype": "text/x-python",
   "name": "python",
   "nbconvert_exporter": "python",
   "pygments_lexer": "ipython3",
   "version": "3.7.8"
  }
 },
 "nbformat": 4,
 "nbformat_minor": 4
}
